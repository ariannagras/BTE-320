{
  "nbformat": 4,
  "nbformat_minor": 0,
  "metadata": {
    "colab": {
      "provenance": [],
      "authorship_tag": "ABX9TyMbMB0xy1EdIAPxpJ3xEfI9",
      "include_colab_link": true
    },
    "kernelspec": {
      "name": "python3",
      "display_name": "Python 3"
    },
    "language_info": {
      "name": "python"
    }
  },
  "cells": [
    {
      "cell_type": "markdown",
      "metadata": {
        "id": "view-in-github",
        "colab_type": "text"
      },
      "source": [
        "<a href=\"https://colab.research.google.com/github/ariannagras/BTE-320/blob/main/InClassAssingments.ipynb\" target=\"_parent\"><img src=\"https://colab.research.google.com/assets/colab-badge.svg\" alt=\"Open In Colab\"/></a>"
      ]
    },
    {
      "cell_type": "code",
      "execution_count": 10,
      "metadata": {
        "colab": {
          "base_uri": "https://localhost:8080/"
        },
        "id": "scEBVV47QWd_",
        "outputId": "82e23e1e-18db-4b20-a99d-969bb74a130e"
      },
      "outputs": [
        {
          "output_type": "stream",
          "name": "stdout",
          "text": [
            "Enter the radius of the cylinder:2\n",
            "Enter the height of the cylinder:5\n",
            "The area of the closed cylinder is: 87.96 sq. ft\n"
          ]
        }
      ],
      "source": [
        "\n",
        "#IN CLASS ASSINGNMENT #1\n",
        "#formula for closed cylinder is area = 2 * pi * r * (r + h)\n",
        "#Get inputs dynamically from user\n",
        "radius = float(input(\"Enter the radius of the cylinder:\"))\n",
        "height = float(input(\"Enter the height of the cylinder:\"))\n",
        "\n",
        "pi = 3.141592653589793\n",
        "\n",
        "#Calculate the surface area of the closed cylinder\n",
        "area = 2 * pi * radius * (radius + height)\n",
        "\n",
        "# Display the result\n",
        "print(f\"The area of the closed cylinder is: {area:.2f} sq. ft\")"
      ]
    },
    {
      "cell_type": "code",
      "source": [
        "# IN CLASS ASSIGNMENT #2\n",
        "# Design a Calculator\n",
        "\n",
        "n1 = float(input(\"Enter first number:\"))\n",
        "symbol = input(\"Enter symbol (+, -, /, //, *, **, %):\")\n",
        "n2 = float(input(\"Enter second number:\"))\n",
        "\n",
        "if symbol == \"+\":\n",
        "  print (f'{n1} + {n2} = {n1 + n2}')\n",
        "elif symbol == \"-\":\n",
        "  print (f'{n1} - {n2} = {n1 - n2}')\n",
        "elif symbol == \"*\":\n",
        "  print (f'{n1} * {n2} = {n1 * n2}')\n",
        "elif symbol == \"/\":\n",
        "  print (f'{n1}/{n2})= {n1/n2}')\n",
        "elif symbol == \"//\":\n",
        "  print (f'{n1} // {n2} = {n1//n2}')\n",
        "elif symbol == \"**\":\n",
        "  print (f'{n1} ** {n2} = {n1 ** n2}')\n",
        "elif symbol == \"%\":\n",
        "  print (f'{n1} % {n2} = {n1 % n2}')\n",
        "else:\n",
        "  print(\"Invalid symbol\")"
      ],
      "metadata": {
        "colab": {
          "base_uri": "https://localhost:8080/"
        },
        "id": "cCUZxTfnb1os",
        "outputId": "ffafd2bc-92aa-433e-c83a-d78b1b93a6ca"
      },
      "execution_count": 7,
      "outputs": [
        {
          "output_type": "stream",
          "name": "stdout",
          "text": [
            "Enter first number:4\n",
            "Enter symbol (+, -, /, //, *, **, %):**\n",
            "Enter second number:2\n",
            "4.0 ** 2.0 = 16.0\n"
          ]
        }
      ]
    },
    {
      "cell_type": "code",
      "source": [
        "{}"
      ],
      "metadata": {
        "id": "f4RjJoVZfw49"
      },
      "execution_count": null,
      "outputs": []
    }
  ]
}