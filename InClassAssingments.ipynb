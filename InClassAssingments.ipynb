{
  "nbformat": 4,
  "nbformat_minor": 0,
  "metadata": {
    "colab": {
      "provenance": [],
      "authorship_tag": "ABX9TyPg4xf7u/p9tnsO0dSIaNxz",
      "include_colab_link": true
    },
    "kernelspec": {
      "name": "python3",
      "display_name": "Python 3"
    },
    "language_info": {
      "name": "python"
    }
  },
  "cells": [
    {
      "cell_type": "markdown",
      "metadata": {
        "id": "view-in-github",
        "colab_type": "text"
      },
      "source": [
        "<a href=\"https://colab.research.google.com/github/ariannagras/BTE-320/blob/main/InClassAssingments.ipynb\" target=\"_parent\"><img src=\"https://colab.research.google.com/assets/colab-badge.svg\" alt=\"Open In Colab\"/></a>"
      ]
    },
    {
      "cell_type": "code",
      "execution_count": null,
      "metadata": {
        "id": "scEBVV47QWd_"
      },
      "outputs": [],
      "source": [
        "\n",
        "#IN CLASS ASSINGNMENT #1\n",
        "#formula for closed cylinder is area = 2 * pi * r * (r + h)\n",
        "#Get inputs dynamically from user\n",
        "radius = float(input(\"Enter the radius of the cylinder:\"))\n",
        "height = float(input(\"Enter the height of the cylinder:\"))\n",
        "\n",
        "pi = 3.141592653589793\n",
        "\n",
        "#Calculate the surface area of the closed cylinder\n",
        "area = 2 * pi * radius * (radius + height)\n",
        "\n",
        "# Display the result\n",
        "print(f\"The area of the closed cylinder is: {area:.2f} sq. ft\")"
      ]
    },
    {
      "cell_type": "code",
      "source": [
        "# IN CLASS ASSIGNMENT #2\n",
        "# Design a Calculator\n",
        "\n",
        "n1 = float(input(\"Enter first number:\"))\n",
        "symbol = input(\"Enter symbol (+, -, /, //, *, **, %):\")\n",
        "n2 = float(input(\"Enter second number:\"))\n",
        "\n",
        "if symbol == \"+\":\n",
        "  print (f'{n1} + {n2} = {n1 + n2}')\n",
        "elif symbol == \"-\":\n",
        "  print (f'{n1} - {n2} = {n1 - n2}')\n",
        "elif symbol == \"*\":\n",
        "  print (f'{n1} * {n2} = {n1 * n2}')\n",
        "elif symbol == \"/\":\n",
        "  print (f'{n1}/{n2})= {n1/n2}')\n",
        "elif symbol == \"//\":\n",
        "  print (f'{n1} // {n2} = {n1//n2}')\n",
        "elif symbol == \"**\":\n",
        "  print (f'{n1} ** {n2} = {n1 ** n2}')\n",
        "elif symbol == \"%\":\n",
        "  print (f'{n1} % {n2} = {n1 % n2}')\n",
        "else:\n",
        "  print(\"Invalid symbol\")"
      ],
      "metadata": {
        "id": "cCUZxTfnb1os"
      },
      "execution_count": null,
      "outputs": []
    },
    {
      "cell_type": "code",
      "source": [
        "#IN CLASS ASSIGNMENT #3\n",
        "#Parking Garage charges $5 plus $2.50 for each hour parked. The minimum fee is $10 and the maximum fee is $20.\n",
        "#Write a program that generates a table with hours parked and the corresponding fee, from 1 to 8 hours.\n",
        "\n",
        "for hours in range (1, 9): #step is automatically 1\n",
        "  fee = 5 + 2.5 * hours\n",
        "  if fee < 10:\n",
        "    fee = 10.0\n",
        "  elif fee > 20:\n",
        "    fee = 20.0\n",
        "\n",
        "  print(hours, fee)"
      ],
      "metadata": {
        "id": "f4RjJoVZfw49",
        "colab": {
          "base_uri": "https://localhost:8080/"
        },
        "outputId": "54acfc15-3eb1-48c0-e033-50dc6814b4aa"
      },
      "execution_count": null,
      "outputs": [
        {
          "output_type": "stream",
          "name": "stdout",
          "text": [
            "1 10.0\n",
            "2 10.0\n",
            "3 12.5\n",
            "4 15.0\n",
            "5 17.5\n",
            "6 20.0\n",
            "7 20.0\n",
            "8 20.0\n"
          ]
        }
      ]
    },
    {
      "cell_type": "code",
      "source": [
        "# IN CLASS ASSIGNMENT 4\n",
        "# Movie theater manager is deciding how much to spend on advertising for upcoming movie.\n",
        "#Each ticket is $10. Without any advertising, 20 people are forecasted to attend.\n",
        "# Additional ppl may attend based on advertising spending, est to be:\n",
        "# additional attendees = 2 x round(advertisingDollars^0.5)\n",
        "# In addition to advertising costs, there are fixed costs to run the theater of $200.\n",
        "#Write a program to generate a table for different advertising amounts and profits\n",
        "\n",
        "\n",
        "for advertisingDollars in range (0, 201, 25):\n",
        "  additional = 2 * round(advertisingDollars ** 0.5)\n",
        "  profit = (20 + additional)* 10 - 200 - advertisingDollars #what we get minus expenses\n",
        "\n",
        "  print(advertisingDollars, profit)"
      ],
      "metadata": {
        "colab": {
          "base_uri": "https://localhost:8080/"
        },
        "id": "6ACl1DYnN_-a",
        "outputId": "4cc46343-24ba-4d1e-ab5a-80c7f0ac366b"
      },
      "execution_count": null,
      "outputs": [
        {
          "output_type": "stream",
          "name": "stdout",
          "text": [
            "0 0\n",
            "25 75\n",
            "50 90\n",
            "75 105\n",
            "100 100\n",
            "125 95\n",
            "150 90\n",
            "175 85\n",
            "200 80\n"
          ]
        }
      ]
    },
    {
      "cell_type": "code",
      "source": [
        "# IN CLASS ASSIGNMENT #5\n",
        "#Add numbers to an empty list given by user, until the user gives the number 0\n",
        "#when this happens (user gives zero), the list stops and is displayed in descending order\n",
        "\n",
        "thelist = [] #Initialize an empty list\n",
        "while True:\n",
        "  num = float(input(\"Enter a number (0 to stop):\")) #num reperesents user given #\n",
        "  if num == 0:\n",
        "    break #Makes the list stop if it is zero and jumps to the next order\n",
        "  thelist.append(num) # if not zero, keep ADDING the user given numbers to list\n",
        "\n",
        "thelist.sort(reverse = True) #Display the list in descending order\n",
        "thelist"
      ],
      "metadata": {
        "colab": {
          "base_uri": "https://localhost:8080/"
        },
        "id": "svfAQesU_kdU",
        "outputId": "c16190fd-4808-49aa-af1b-7841fdf423ff"
      },
      "execution_count": null,
      "outputs": [
        {
          "name": "stdout",
          "output_type": "stream",
          "text": [
            "Enter a number (0 to stop):8\n",
            "Enter a number (0 to stop):9\n",
            "Enter a number (0 to stop):10\n",
            "Enter a number (0 to stop):0\n"
          ]
        },
        {
          "output_type": "execute_result",
          "data": {
            "text/plain": [
              "[10.0, 9.0, 8.0]"
            ]
          },
          "metadata": {},
          "execution_count": 13
        }
      ]
    },
    {
      "cell_type": "code",
      "source": [
        "#ALTERNATIVE TO ASSIGNMENT #5\n",
        "thelist =[]\n",
        "\n",
        "num = float(input(\"Enter a number:\"))\n",
        "\n",
        "while num != 0:\n",
        " # while num given is not equal to zero\n",
        "  thelist.append(num)\n",
        "  num = float(input(\"Enter a number:\"))\n",
        "thelist.sort(reverse=True)\n",
        "print(thelist)"
      ],
      "metadata": {
        "colab": {
          "base_uri": "https://localhost:8080/"
        },
        "id": "KDGd5CkkDlec",
        "outputId": "f95ed7bb-4a70-40cf-eaa1-0831929ff6a3"
      },
      "execution_count": null,
      "outputs": [
        {
          "output_type": "stream",
          "name": "stdout",
          "text": [
            "Enter a number:8\n",
            "Enter a number:9\n",
            "Enter a number:0\n",
            "[9.0, 8.0]\n"
          ]
        }
      ]
    },
    {
      "cell_type": "code",
      "source": [
        "# IN CLASS ASSIGNMENT #6\n",
        "# Populate empty dictionary\n",
        "\n",
        "months = {}\n",
        "\n",
        "names = [\"Jan\", \"Feb\", \"Mar\", \"Apr\", \"May\", \"Jun\", \"Jul\", \"Aug\",\"Sep\",\"Oct\",\"Nov\",\"Dec\"]\n",
        "numbers = [1,2,3,4,5,6,7,8,9,10,11,12]\n",
        "\n",
        "for idx in range(len(numbers)):\n",
        "  months[numbers[idx]]= names[idx]\n",
        "\n",
        "months"
      ],
      "metadata": {
        "colab": {
          "base_uri": "https://localhost:8080/"
        },
        "id": "ueFbkwNJk2Pd",
        "outputId": "d9589f6e-25af-4f87-904b-428bfda627a4"
      },
      "execution_count": null,
      "outputs": [
        {
          "output_type": "execute_result",
          "data": {
            "text/plain": [
              "{1: 'Jan',\n",
              " 2: 'Feb',\n",
              " 3: 'Mar',\n",
              " 4: 'Apr',\n",
              " 5: 'May',\n",
              " 6: 'Jun',\n",
              " 7: 'Jul',\n",
              " 8: 'Aug',\n",
              " 9: 'Sep',\n",
              " 10: 'Oct',\n",
              " 11: 'Nov',\n",
              " 12: 'Dec'}"
            ]
          },
          "metadata": {},
          "execution_count": 1
        }
      ]
    },
    {
      "cell_type": "code",
      "source": [
        "#Alternative to #6\n",
        "months = {}\n",
        "\n",
        "names = [\"Jan\", \"Feb\", \"Mar\", \"Apr\", \"May\", \"Jun\", \"Jul\", \"Aug\",\"Sep\",\"Oct\",\"Nov\",\"Dec\"]\n",
        "numbers = [1,2,3,4,5,6,7,8,9,10,11,12]\n",
        "cntr = 0\n",
        "for num in numbers:\n",
        "  months = [num] = names[cntr]\n",
        "  cntr += 1\n",
        "months"
      ],
      "metadata": {
        "colab": {
          "base_uri": "https://localhost:8080/"
        },
        "id": "WJhTTecmmWIJ",
        "outputId": "1ae5ba94-3a0c-4261-9a64-1900445ac6aa"
      },
      "execution_count": null,
      "outputs": [
        {
          "output_type": "execute_result",
          "data": {
            "text/plain": [
              "{1: 'Jan',\n",
              " 2: 'Feb',\n",
              " 3: 'Mar',\n",
              " 4: 'Apr',\n",
              " 5: 'May',\n",
              " 6: 'Jun',\n",
              " 7: 'Jul',\n",
              " 8: 'Aug',\n",
              " 9: 'Sep',\n",
              " 10: 'Oct',\n",
              " 11: 'Nov',\n",
              " 12: 'Dec'}"
            ]
          },
          "metadata": {},
          "execution_count": 4
        }
      ]
    },
    {
      "cell_type": "code",
      "source": [
        "#Assignment #7\n",
        "#Begin by creating an empty dictionary. then use a while loop to read strings from the user\n",
        "# Until 5 unqiue strings have been entered\n",
        "# Finally, all strings are displayed with their counts\n",
        "# Address the strings as keys adn their coutnd as values\n",
        "counts = {}\n",
        "\n",
        "while len(counts) < 5:\n",
        "  key = input(\"Enter a string:\")\n",
        "\n",
        "  if key not in counts:\n",
        "    counts[key] = 1\n",
        "  else:\n",
        "    counts[key] += 1\n",
        "\n",
        "counts"
      ],
      "metadata": {
        "colab": {
          "base_uri": "https://localhost:8080/"
        },
        "id": "SJA3DeYIrqtT",
        "outputId": "ee16058b-4746-44ff-c67f-3744fc30f5d4"
      },
      "execution_count": null,
      "outputs": [
        {
          "name": "stdout",
          "output_type": "stream",
          "text": [
            "Enter a string:green\n",
            "Enter a string:purple\n",
            "Enter a string:pink\n",
            "Enter a string:orange\n",
            "Enter a string:yellow\n"
          ]
        },
        {
          "output_type": "execute_result",
          "data": {
            "text/plain": [
              "{'green': 1, 'purple': 1, 'pink': 1, 'orange': 1, 'yellow': 1}"
            ]
          },
          "metadata": {},
          "execution_count": 10
        }
      ]
    },
    {
      "cell_type": "code",
      "source": [
        "# In Class Assignment 8 : Parking Garage\n",
        "# A parking garage charges $5 plus $2.50 for each hour parked.\n",
        "#Write a program that:\n",
        "# Prompts for the number of hours parked\n",
        "# Calculates and displays the parking fee charged\n",
        "# As part of your program, define a function that calculates the parking fee given\n",
        "# given a number of hours. Use signature def calcFee(hours)\n",
        "\n",
        "def calcFee(hours):\n",
        "  fee = 5 + 2.5 * hours\n",
        "  if fee < 10:\n",
        "    fee = 10.0\n",
        "  elif fee > 20:\n",
        "    fee = 20.0\n",
        "  print(f'Fee: ${fee}')\n",
        "\n",
        "numHours = int(input('Enter number of hours parked: '))\n",
        "calcFee(numHours)"
      ],
      "metadata": {
        "colab": {
          "base_uri": "https://localhost:8080/"
        },
        "id": "aZQpPQ7gZzA-",
        "outputId": "a1c138cd-4075-498e-8588-10a3c43f39eb"
      },
      "execution_count": null,
      "outputs": [
        {
          "output_type": "stream",
          "name": "stdout",
          "text": [
            "Enter number of hours parked: 7\n",
            "Fee: $20.0\n"
          ]
        }
      ]
    },
    {
      "cell_type": "code",
      "source": [
        "#Design Recursive Function that Reverses a String\n",
        "#If function is called f('Hello'), the fucntion returns it as 'olleH'\n",
        "\n",
        "def reverseString(s):\n",
        "  if len(s) == 0:\n",
        "    return s\n",
        "  else:\n",
        "    return s[-1] + reverseString(s[:-1])\n",
        "\n",
        "reverseString('Hello')"
      ],
      "metadata": {
        "colab": {
          "base_uri": "https://localhost:8080/",
          "height": 35
        },
        "id": "A65JhpLcrGsm",
        "outputId": "a5c30498-7d7c-4df2-f86a-3fc0a2df18d4"
      },
      "execution_count": 1,
      "outputs": [
        {
          "output_type": "execute_result",
          "data": {
            "text/plain": [
              "'olleH'"
            ],
            "application/vnd.google.colaboratory.intrinsic+json": {
              "type": "string"
            }
          },
          "metadata": {},
          "execution_count": 1
        }
      ]
    }
  ]
}