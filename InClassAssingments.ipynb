{
  "nbformat": 4,
  "nbformat_minor": 0,
  "metadata": {
    "colab": {
      "provenance": [],
      "authorship_tag": "ABX9TyPEeHGjdge95XgrmVqmQtnw",
      "include_colab_link": true
    },
    "kernelspec": {
      "name": "python3",
      "display_name": "Python 3"
    },
    "language_info": {
      "name": "python"
    }
  },
  "cells": [
    {
      "cell_type": "markdown",
      "metadata": {
        "id": "view-in-github",
        "colab_type": "text"
      },
      "source": [
        "<a href=\"https://colab.research.google.com/github/ariannagras/BTE-320/blob/main/InClassAssingments.ipynb\" target=\"_parent\"><img src=\"https://colab.research.google.com/assets/colab-badge.svg\" alt=\"Open In Colab\"/></a>"
      ]
    },
    {
      "cell_type": "code",
      "execution_count": 1,
      "metadata": {
        "colab": {
          "base_uri": "https://localhost:8080/"
        },
        "id": "scEBVV47QWd_",
        "outputId": "6e21af04-b375-4b41-88f1-dcf8678c4c2f"
      },
      "outputs": [
        {
          "output_type": "stream",
          "name": "stdout",
          "text": [
            "Enter the radius of the cylinder:2.5\n",
            "Enter the height of the cylinder:2.5\n",
            "The area of the closed cylinder is: 78.54\n"
          ]
        }
      ],
      "source": [
        "import math\n",
        "#formula for closed cylinder is area = 2 * pi * r * (r + h)\n",
        "#Get inputs dynamically from user\n",
        "radius = float(input(\"Enter the radius of the cylinder:\"))\n",
        "height = float(input(\"Enter the height of the cylinder:\"))\n",
        "\n",
        "#Calculate the surface area of the closed cylinder\n",
        "area = 2 * math.pi * radius * (radius + height)\n",
        "\n",
        "# Display the result\n",
        "print(f\"The area of the closed cylinder is: {area:.2f}\")"
      ]
    }
  ]
}