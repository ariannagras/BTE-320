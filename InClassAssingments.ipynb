{
  "nbformat": 4,
  "nbformat_minor": 0,
  "metadata": {
    "colab": {
      "provenance": [],
      "authorship_tag": "ABX9TyMFow74wnseWW1ELZZb5pbd",
      "include_colab_link": true
    },
    "kernelspec": {
      "name": "python3",
      "display_name": "Python 3"
    },
    "language_info": {
      "name": "python"
    }
  },
  "cells": [
    {
      "cell_type": "markdown",
      "metadata": {
        "id": "view-in-github",
        "colab_type": "text"
      },
      "source": [
        "<a href=\"https://colab.research.google.com/github/ariannagras/BTE-320/blob/main/InClassAssingments.ipynb\" target=\"_parent\"><img src=\"https://colab.research.google.com/assets/colab-badge.svg\" alt=\"Open In Colab\"/></a>"
      ]
    },
    {
      "cell_type": "code",
      "execution_count": null,
      "metadata": {
        "id": "scEBVV47QWd_"
      },
      "outputs": [],
      "source": [
        "\n",
        "#IN CLASS ASSINGNMENT #1\n",
        "#formula for closed cylinder is area = 2 * pi * r * (r + h)\n",
        "#Get inputs dynamically from user\n",
        "radius = float(input(\"Enter the radius of the cylinder:\"))\n",
        "height = float(input(\"Enter the height of the cylinder:\"))\n",
        "\n",
        "pi = 3.141592653589793\n",
        "\n",
        "#Calculate the surface area of the closed cylinder\n",
        "area = 2 * pi * radius * (radius + height)\n",
        "\n",
        "# Display the result\n",
        "print(f\"The area of the closed cylinder is: {area:.2f} sq. ft\")"
      ]
    },
    {
      "cell_type": "code",
      "source": [
        "# IN CLASS ASSIGNMENT #2\n",
        "# Design a Calculator\n",
        "\n",
        "n1 = float(input(\"Enter first number:\"))\n",
        "symbol = input(\"Enter symbol (+, -, /, //, *, **, %):\")\n",
        "n2 = float(input(\"Enter second number:\"))\n",
        "\n",
        "if symbol == \"+\":\n",
        "  print (f'{n1} + {n2} = {n1 + n2}')\n",
        "elif symbol == \"-\":\n",
        "  print (f'{n1} - {n2} = {n1 - n2}')\n",
        "elif symbol == \"*\":\n",
        "  print (f'{n1} * {n2} = {n1 * n2}')\n",
        "elif symbol == \"/\":\n",
        "  print (f'{n1}/{n2})= {n1/n2}')\n",
        "elif symbol == \"//\":\n",
        "  print (f'{n1} // {n2} = {n1//n2}')\n",
        "elif symbol == \"**\":\n",
        "  print (f'{n1} ** {n2} = {n1 ** n2}')\n",
        "elif symbol == \"%\":\n",
        "  print (f'{n1} % {n2} = {n1 % n2}')\n",
        "else:\n",
        "  print(\"Invalid symbol\")"
      ],
      "metadata": {
        "id": "cCUZxTfnb1os"
      },
      "execution_count": null,
      "outputs": []
    },
    {
      "cell_type": "code",
      "source": [
        "#IN CLASS ASSIGNMENT #3\n",
        "#Parking Garage charges $5 plus $2.50 for each hour parked. The minimum fee is $10 and the maximum fee is $20.\n",
        "#Write a program that generates a table with hours parked and the corresponding fee, from 1 to 8 hours.\n",
        "\n",
        "for hours in range (1, 9): #step is automatically 1\n",
        "  fee = 5 + 2.5 * hours\n",
        "  if fee < 10:\n",
        "    fee = 10.0\n",
        "  elif fee > 20:\n",
        "    fee = 20.0\n",
        "\n",
        "  print(hours, fee)"
      ],
      "metadata": {
        "id": "f4RjJoVZfw49",
        "colab": {
          "base_uri": "https://localhost:8080/"
        },
        "outputId": "54acfc15-3eb1-48c0-e033-50dc6814b4aa"
      },
      "execution_count": null,
      "outputs": [
        {
          "output_type": "stream",
          "name": "stdout",
          "text": [
            "1 10.0\n",
            "2 10.0\n",
            "3 12.5\n",
            "4 15.0\n",
            "5 17.5\n",
            "6 20.0\n",
            "7 20.0\n",
            "8 20.0\n"
          ]
        }
      ]
    },
    {
      "cell_type": "code",
      "source": [
        "# IN CLASS ASSIGNMENT 4\n",
        "# Movie theater manager is deciding how much to spend on advertising for upcoming movie.\n",
        "#Each ticket is $10. Without any advertising, 20 people are forecasted to attend.\n",
        "# Additional ppl may attend based on advertising spending, est to be:\n",
        "# additional attendees = 2 x round(advertisingDollars^0.5)\n",
        "# In addition to advertising costs, there are fixed costs to run the theater of $200.\n",
        "#Write a program to generate a table for different advertising amounts and profits\n",
        "\n",
        "\n",
        "for advertisingDollars in range (0, 201, 25):\n",
        "  additional = 2 * round(advertisingDollars ** 0.5)\n",
        "  profit = (20 + additional)* 10 - 200 - advertisingDollars #what we get minus expenses\n",
        "\n",
        "  print(advertisingDollars, profit)"
      ],
      "metadata": {
        "colab": {
          "base_uri": "https://localhost:8080/"
        },
        "id": "6ACl1DYnN_-a",
        "outputId": "4cc46343-24ba-4d1e-ab5a-80c7f0ac366b"
      },
      "execution_count": null,
      "outputs": [
        {
          "output_type": "stream",
          "name": "stdout",
          "text": [
            "0 0\n",
            "25 75\n",
            "50 90\n",
            "75 105\n",
            "100 100\n",
            "125 95\n",
            "150 90\n",
            "175 85\n",
            "200 80\n"
          ]
        }
      ]
    },
    {
      "cell_type": "code",
      "source": [
        "# IN CLASS ASSIGNMENT 5: Rock Paper Scissors\n",
        "\n",
        "import random\n",
        "\n",
        "play = input(\"Do you want to play?\")\n",
        "\n",
        "while play == \"yes\":\n",
        "  P1 = input(\"Player 1, select Rock, Paper, or Scissors:\")\n",
        "  P2 = random.choice([\"Rock\", \"Paper\", \"Scissors\"])\n",
        "\n",
        "  print(f'player 1 {P1}; Computer chooses {P2}')\n",
        "  if (P1 == \"Rock\" and P2 == \"Scissors\") or (P1 == \"Paper\" and P2 == \"Rock\") or (P1 == \"Scissors\" and P2 == \"Paper\"):\n",
        "    print(\"Player 1 wins!\")\n",
        "  elif P1 == P2:\n",
        "    print(\"Draw!\")\n",
        "  else:\n",
        "    print(\"Player 2 wins!\")\n",
        "\n",
        "    play = input(\"Do you want to play?\")\n",
        "print (\"Game Over\")"
      ],
      "metadata": {
        "id": "B-xUm7cRDB3_",
        "colab": {
          "base_uri": "https://localhost:8080/"
        },
        "outputId": "b07f4bdc-0beb-4090-a623-3d91b73bc308"
      },
      "execution_count": 1,
      "outputs": [
        {
          "output_type": "stream",
          "name": "stdout",
          "text": [
            "Do you want to play?yes\n",
            "Player 1, select Rock, Paper, or Scissors:Rock\n",
            "player 1 Rock; Computer chose Scissors\n",
            "Player 1 wins!\n",
            "Player 1, select Rock, Paper, or Scissors:Paper\n",
            "player 1 Paper; Computer chose Rock\n",
            "Player 1 wins!\n",
            "Player 1, select Rock, Paper, or Scissors:Scissors\n",
            "player 1 Scissors; Computer chose Rock\n",
            "Player 2 wins!\n",
            "Do you want to play?Rock\n",
            "Game Over\n"
          ]
        }
      ]
    },
    {
      "cell_type": "code",
      "source": [
        "# IN CLASS ASSIGNMENT 6\n",
        "#Add numbers to an empty list given by user, until the user gives the number 0\n",
        "#when this happens (user gives zero), the list stops and is displayed in descending order\n",
        "\n",
        "thelist = [] #Initialize an empty list\n",
        "while True:\n",
        "  num = float(input(\"Enter a number (0 to stop):\")) #num reperesents user given #\n",
        "  if num == 0:\n",
        "    break #Makes the list stop if it is zero and jumps to the next order\n",
        "  thelist.append(num) # if not zero, keep ADDING the user given numbers to list\n",
        "\n",
        "thelist.sort(reverse = True) #Display the list in descending order\n",
        "thelist"
      ],
      "metadata": {
        "colab": {
          "base_uri": "https://localhost:8080/"
        },
        "id": "svfAQesU_kdU",
        "outputId": "c16190fd-4808-49aa-af1b-7841fdf423ff"
      },
      "execution_count": null,
      "outputs": [
        {
          "name": "stdout",
          "output_type": "stream",
          "text": [
            "Enter a number (0 to stop):8\n",
            "Enter a number (0 to stop):9\n",
            "Enter a number (0 to stop):10\n",
            "Enter a number (0 to stop):0\n"
          ]
        },
        {
          "output_type": "execute_result",
          "data": {
            "text/plain": [
              "[10.0, 9.0, 8.0]"
            ]
          },
          "metadata": {},
          "execution_count": 13
        }
      ]
    },
    {
      "cell_type": "code",
      "source": [
        "# IN CLASS ASSIGNMENT #7\n",
        "# Populate empty dictionary\n",
        "\n",
        "months = {}\n",
        "\n",
        "names = [\"Jan\", \"Feb\", \"Mar\", \"Apr\", \"May\", \"Jun\", \"Jul\", \"Aug\",\"Sep\",\"Oct\",\"Nov\",\"Dec\"]\n",
        "numbers = [1,2,3,4,5,6,7,8,9,10,11,12]\n",
        "\n",
        "for idx in range(len(numbers)):\n",
        "  months[numbers[idx]]= names[idx]\n",
        "\n",
        "months"
      ],
      "metadata": {
        "colab": {
          "base_uri": "https://localhost:8080/"
        },
        "id": "ueFbkwNJk2Pd",
        "outputId": "d9589f6e-25af-4f87-904b-428bfda627a4"
      },
      "execution_count": null,
      "outputs": [
        {
          "output_type": "execute_result",
          "data": {
            "text/plain": [
              "{1: 'Jan',\n",
              " 2: 'Feb',\n",
              " 3: 'Mar',\n",
              " 4: 'Apr',\n",
              " 5: 'May',\n",
              " 6: 'Jun',\n",
              " 7: 'Jul',\n",
              " 8: 'Aug',\n",
              " 9: 'Sep',\n",
              " 10: 'Oct',\n",
              " 11: 'Nov',\n",
              " 12: 'Dec'}"
            ]
          },
          "metadata": {},
          "execution_count": 1
        }
      ]
    },
    {
      "cell_type": "code",
      "source": [
        "#Assignment 8\n",
        "#Begin by creating an empty dictionary. then use a while loop to read strings from the user\n",
        "# Until 5 unqiue strings have been entered\n",
        "# Finally, all strings are displayed with their counts\n",
        "# Address the strings as keys adn their coutnd as values\n",
        "counts = {}\n",
        "\n",
        "while len(counts) < 5:\n",
        "  key = input(\"Enter a string:\")\n",
        "\n",
        "  if key not in counts:\n",
        "    counts[key] = 1\n",
        "  else:\n",
        "    counts[key] += 1\n",
        "\n",
        "counts"
      ],
      "metadata": {
        "colab": {
          "base_uri": "https://localhost:8080/"
        },
        "id": "SJA3DeYIrqtT",
        "outputId": "ee16058b-4746-44ff-c67f-3744fc30f5d4"
      },
      "execution_count": null,
      "outputs": [
        {
          "name": "stdout",
          "output_type": "stream",
          "text": [
            "Enter a string:green\n",
            "Enter a string:purple\n",
            "Enter a string:pink\n",
            "Enter a string:orange\n",
            "Enter a string:yellow\n"
          ]
        },
        {
          "output_type": "execute_result",
          "data": {
            "text/plain": [
              "{'green': 1, 'purple': 1, 'pink': 1, 'orange': 1, 'yellow': 1}"
            ]
          },
          "metadata": {},
          "execution_count": 10
        }
      ]
    },
    {
      "cell_type": "code",
      "source": [
        "# In Class Assignment 9 : Parking Garage\n",
        "# A parking garage charges $5 plus $2.50 for each hour parked.\n",
        "#Write a program that:\n",
        "# Prompts for the number of hours parked\n",
        "# Calculates and displays the parking fee charged\n",
        "# As part of your program, define a function that calculates the parking fee given\n",
        "# given a number of hours. Use signature def calcFee(hours)\n",
        "\n",
        "def calcFee(hours):\n",
        "  fee = 5 + 2.5 * hours\n",
        "  if fee < 10:\n",
        "    fee = 10.0\n",
        "  elif fee > 20:\n",
        "    fee = 20.0\n",
        "  print(f'Fee: ${fee}')\n",
        "\n",
        "numHours = int(input('Enter number of hours parked: '))\n",
        "calcFee(numHours)"
      ],
      "metadata": {
        "colab": {
          "base_uri": "https://localhost:8080/"
        },
        "id": "aZQpPQ7gZzA-",
        "outputId": "a1c138cd-4075-498e-8588-10a3c43f39eb"
      },
      "execution_count": null,
      "outputs": [
        {
          "output_type": "stream",
          "name": "stdout",
          "text": [
            "Enter number of hours parked: 7\n",
            "Fee: $20.0\n"
          ]
        }
      ]
    },
    {
      "cell_type": "code",
      "source": [
        "#Assignment 10\n",
        "#Design Recursive Function that Reverses a String\n",
        "#If function is called f('Hello'), the fucntion returns it as 'olleH'\n",
        "\n",
        "def reverseString(s):\n",
        "  if len(s) == 0:\n",
        "    return s\n",
        "  else:\n",
        "    return s[-1] + reverseString(s[:-1])\n",
        "\n",
        "reverseString('Hello')"
      ],
      "metadata": {
        "colab": {
          "base_uri": "https://localhost:8080/",
          "height": 35
        },
        "id": "A65JhpLcrGsm",
        "outputId": "a5c30498-7d7c-4df2-f86a-3fc0a2df18d4"
      },
      "execution_count": null,
      "outputs": [
        {
          "output_type": "execute_result",
          "data": {
            "text/plain": [
              "'olleH'"
            ],
            "application/vnd.google.colaboratory.intrinsic+json": {
              "type": "string"
            }
          },
          "metadata": {},
          "execution_count": 1
        }
      ]
    },
    {
      "cell_type": "code",
      "source": [
        "#Assignment 11\n",
        "#Handling Exception Errors\n",
        "\n",
        "def calcFee(hours):\n",
        "  fee = 5 + 2.5 * hours\n",
        "  if fee < 10:\n",
        "    fee = 10.0\n",
        "  elif fee > 20:\n",
        "    fee = 20.0\n",
        "  print(f'Fee: ${fee}')\n",
        "\n",
        "try:\n",
        "  numHours = int(input('Enter number of hours parked: '))\n",
        "  calcFee(numHours)\n",
        "except ValueError:\n",
        "  print(\"Error: Please enter a valid whole number.\")\n",
        "except:\n",
        "  print('Unknown error...')"
      ],
      "metadata": {
        "colab": {
          "base_uri": "https://localhost:8080/"
        },
        "id": "D7d2D9PUDCeB",
        "outputId": "935b8a7a-a3ad-44f0-95a7-0b97db6ece44"
      },
      "execution_count": null,
      "outputs": [
        {
          "output_type": "stream",
          "name": "stdout",
          "text": [
            "Enter number of hours parked: 5\n",
            "Fee: $17.5\n"
          ]
        }
      ]
    },
    {
      "cell_type": "code",
      "source": [
        "#Assignment 11\n",
        "#Handling Exception Errors 2\n",
        "def getValues(n):\n",
        "  L = []\n",
        "  for i in range(n):\n",
        "    while True:\n",
        "      try:\n",
        "        weight = (float(input(\"Enter weight:\")))\n",
        "        break\n",
        "      except ValueError:\n",
        "        print(\"Error: Please enter a valid number.\")\n",
        "        continue\n",
        "\n",
        "    L.append(weight)\n",
        "  return L\n",
        "\n",
        "def calcAverage(alist):\n",
        "  try:\n",
        "    print(sum(alist[2:]) / len(alist[2:]))\n",
        "  except ZeroDivisionError:\n",
        "    print(\"Error: Cannot divide by zero.\")\n",
        "  except:\n",
        "    print('Unknown error...')\n",
        "\n",
        "if __name__ == '__main__':\n",
        "  n = 5\n",
        "  alist = getValues(n)\n",
        "  calcAverage(alist)"
      ],
      "metadata": {
        "id": "XLxTfdBNG40G",
        "colab": {
          "base_uri": "https://localhost:8080/"
        },
        "outputId": "98270773-eda7-4fdd-ed59-4892f867c5d5"
      },
      "execution_count": null,
      "outputs": [
        {
          "output_type": "stream",
          "name": "stdout",
          "text": [
            "Enter weight:7\n",
            "Enter weight:8\n",
            "Enter weight:8.5\n",
            "Enter weight:0\n",
            "Enter weight:-5\n",
            "1.1666666666666667\n"
          ]
        }
      ]
    },
    {
      "cell_type": "code",
      "source": [
        "#Assignment 12\n",
        "#4/7/2025\n",
        "\n",
        "class Greeting:\n",
        "  def __init__(self, first, last):\n",
        "    self.first = first\n",
        "    self.last = last\n",
        "  def display(self, formal=False):\n",
        "        if formal:\n",
        "            print(f'Hello {self.first} {self.last}')\n",
        "        else:\n",
        "            print(f'Hi {self.first}')\n",
        "  def __str__(self): #just \"returns\" a string\n",
        "    return\"{}, {}\".format(self.first, self.last)\n",
        "    return f'{self.first}, {self.last}'\n",
        "    return str(self.first) + \", \" + str(self.last)\n",
        "\n",
        "greeting = Greeting('Donald' , 'Becker')\n",
        "greeting.display() #If we leave it as this, the default is the casual greeting\n",
        "greeting.display(formal=True) #So, now we are saying formal is True (use formal greeting)\n",
        "print(greeting)\n",
        "\n",
        "#5)Add a named parameter to the display method, with signature: def display(self, formal = False)\n",
        "#6)Enhance the display method: if formal is True, display Hello <first> <last>. If formal is False, display Hi <first>\n",
        "#7)test your enhanced class: greeting = Greeting('Donald, 'Becker') greeting.display(formal=true)\n",
        "#8)Define the __str__() and __repr__() method that return the properties as a comma-separated string (i.e.<first>,<last>)\n"
      ],
      "metadata": {
        "colab": {
          "base_uri": "https://localhost:8080/"
        },
        "id": "b4vky9HI36VS",
        "outputId": "e4a4141c-4de5-4529-c315-6ff065e695eb"
      },
      "execution_count": null,
      "outputs": [
        {
          "output_type": "stream",
          "name": "stdout",
          "text": [
            "Hi Donald\n",
            "Hello Donald Becker\n",
            "Donald, Becker\n"
          ]
        }
      ]
    },
    {
      "cell_type": "markdown",
      "source": [
        "In Class Assignment 13"
      ],
      "metadata": {
        "id": "BbKe4yYNV1aq"
      }
    },
    {
      "cell_type": "code",
      "source": [
        "# In Class Assignment 13 Class Students\n",
        "class Students:\n",
        "  def __init__(self, name, number):\n",
        "    self.name = name\n",
        "    self.number = number\n",
        "    self.courses = []\n",
        "\n",
        "  def __str__(self):\n",
        "    return f'{self.name} ,{self.number}'\n",
        "\n",
        "  def enroll(self, course):\n",
        "    if course in self.courses:\n",
        "      print(f'already enrolled in {course}')\n",
        "    else:\n",
        "      self.courses.append(course)\n",
        "\n",
        "  def get_courses(self):\n",
        "    return self.courses"
      ],
      "metadata": {
        "id": "B_eYLtn8XuEy"
      },
      "execution_count": 25,
      "outputs": []
    },
    {
      "cell_type": "code",
      "source": [
        "student1 = Students('James Bond' , ' 007')\n",
        "student2 = Students('Clark Kent' , ' 33')\n",
        "\n",
        "print(student1)\n",
        "print(student2)"
      ],
      "metadata": {
        "colab": {
          "base_uri": "https://localhost:8080/"
        },
        "id": "6qsQemjsV8ta",
        "outputId": "850ff8e3-5a13-46ec-c6f5-cc52b1fde398"
      },
      "execution_count": 26,
      "outputs": [
        {
          "output_type": "stream",
          "name": "stdout",
          "text": [
            "James Bond , 007\n",
            "Clark Kent , 33\n"
          ]
        }
      ]
    },
    {
      "cell_type": "code",
      "source": [
        "student1.enroll('BTE 320')\n",
        "student1.get_courses()"
      ],
      "metadata": {
        "colab": {
          "base_uri": "https://localhost:8080/"
        },
        "id": "qmbsXZaoWRZ4",
        "outputId": "6b2cdcca-3d6b-4be5-909b-b54b723c3e7f"
      },
      "execution_count": 28,
      "outputs": [
        {
          "output_type": "stream",
          "name": "stdout",
          "text": [
            "already enrolled in BTE 320\n"
          ]
        },
        {
          "output_type": "execute_result",
          "data": {
            "text/plain": [
              "['BTE 320']"
            ]
          },
          "metadata": {},
          "execution_count": 28
        }
      ]
    },
    {
      "cell_type": "markdown",
      "source": [
        "In Class Assignment 14"
      ],
      "metadata": {
        "id": "c3l3brVyV4Of"
      }
    },
    {
      "cell_type": "code",
      "source": [
        "#In Class Assignment 14a\n",
        "# Define a class named Point. It will represent a point in x-y coordinate space.\n",
        "# Attributes *x (int) * y (int). It will have a method named 'distance' which calculates the distance between two Points.\n",
        "# Hints: to calculate distance (d): get the difference between x values (x_diff) and the y values (y_diff).\n",
        "# d= math.sqrt(x_diff**2 + y_diff**2)\n",
        "\n",
        "import math\n",
        "\n",
        "class Point:\n",
        "    def __init__(self, x, y):\n",
        "        self.x = x\n",
        "        self.y = y\n",
        "\n",
        "    def distance(self, other):\n",
        "      dx = (self.x - other.x)**2\n",
        "      dy = (self.y - other.y)**2\n",
        "      dist = math.sqrt(dx + dy)\n",
        "      return dist\n",
        "\n",
        "p1 = Point(0,0)\n",
        "p2 = Point(2,0)\n",
        "p1.distance(p2)\n",
        "\n"
      ],
      "metadata": {
        "colab": {
          "base_uri": "https://localhost:8080/"
        },
        "id": "B9Iqh048NIIo",
        "outputId": "c197d3a2-c701-461d-8623-6989be38bc21"
      },
      "execution_count": 36,
      "outputs": [
        {
          "output_type": "execute_result",
          "data": {
            "text/plain": [
              "2.0"
            ]
          },
          "metadata": {},
          "execution_count": 36
        }
      ]
    },
    {
      "cell_type": "code",
      "source": [
        "#In Class Assignment 14b\n",
        "# Define a class named Rectangle. It represents a rectangle on the xy coordinate.\n",
        "# Rectangle has 4 attributes: corner_1, corner_2, corner_3, corner_4 (Points)\n",
        "#these are the 4 corners we defined in 14a.\n",
        "# width = distance between corner 1 and corner 2\n",
        "# length = disntance between corner 1 and corner 3\n",
        "#Rectangle used Point class to calculate these distances. Finally, Rectangle has a method which returns its area.\n",
        "# The name of this method is 'area\".\n",
        "# corner 1 and corner 2 are on the same line (side). same for corner 3 and corner 4.\n",
        "# this is how the corners look: 1.......2\n",
        "\n",
        "class Rectangle:\n",
        "  def __init__(self):\n",
        "    self.c1 = Point(0,0)\n",
        "    self.c2 = Point(0,2)\n",
        "    self.c3 = Point(2,0)\n",
        "    self.c4 = Point(2,2)\n",
        "    self.width = self.calculate_width() #make this equal to what we get\n",
        "    self.height = self.calculate_height() #make this equal to what we get\n",
        "\n",
        "  def calculate_width(self):\n",
        "    return self.c1.distance(self.c2) #distance between c1 and c2\n",
        "\n",
        "  def calculate_height(self):\n",
        "    return self.c3.distance(self.c4) #distance between c3 and c4\n",
        "\n",
        "  def area(self):\n",
        "    return self.width * self.height #find area of square\n",
        "\n",
        "square = Rectangle()\n",
        "square.area()\n",
        "\n"
      ],
      "metadata": {
        "colab": {
          "base_uri": "https://localhost:8080/"
        },
        "id": "fA_CjZJ5Py3e",
        "outputId": "c1dd1281-8cc5-4d9d-ec03-4461ccedc7b1"
      },
      "execution_count": 38,
      "outputs": [
        {
          "output_type": "execute_result",
          "data": {
            "text/plain": [
              "4.0"
            ]
          },
          "metadata": {},
          "execution_count": 38
        }
      ]
    }
  ]
}